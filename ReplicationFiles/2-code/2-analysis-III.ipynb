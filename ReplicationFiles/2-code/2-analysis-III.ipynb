{
 "cells": [
  {
   "cell_type": "markdown",
   "id": "7d31f196",
   "metadata": {},
   "source": [
    "# Figures and tables III\n",
    "\n",
    "\n",
    "This file is part of the replication code for: \n",
    "\n",
    "Offshore Profit Shifting and Aggregate Measurement: Balance of Payments, Foreign Investment, Productivity, and the Labor Share by Guvenen, Mataloni Jr., Rassier, and Ruhl. \n",
    "\n",
    "This version: February 21, 2022\n",
    "\n",
    "\n",
    "This file creates all of the tables in the paper except for tables 5 and, which are created in `2-analysis-I.ipynb` and table 3, which is created in `(7) Hines and Rice 1982 AER Replication.sas` in the `0-confidential-data-replication-files/USDIA` folder."
   ]
  },
  {
   "cell_type": "code",
   "execution_count": 1,
   "id": "876d3506",
   "metadata": {},
   "outputs": [],
   "source": [
    "import pandas as pd\n",
    "\n",
    "def add_after(text, beginswith, toinsert):\n",
    "    '''Adds a row to a latex table. \n",
    "    Inserts the string `toinsert` into the table string `text` \n",
    "    after the row that begins with `beginswith`.'''\n",
    "    ss = text.splitlines()\n",
    "    \n",
    "    ii = '0'\n",
    "    for i, l in enumerate(ss):\n",
    "        if l.startswith(beginswith) == True:\n",
    "            ii = i\n",
    "    \n",
    "    # This will throw an error if beginswith is not found.\n",
    "    ss.insert(ii+1, toinsert)\n",
    "    return '\\n'.join(ss)"
   ]
  },
  {
   "cell_type": "markdown",
   "id": "fb918ca4",
   "metadata": {},
   "source": [
    "## Table 1"
   ]
  },
  {
   "cell_type": "code",
   "execution_count": 2,
   "id": "5da1ce6c",
   "metadata": {},
   "outputs": [],
   "source": [
    "ctys = ['All Countries Total', 'Canada', 'Ireland', 'Luxembourg', 'Netherlands', 'Switzerland',\n",
    "        'Barbados', 'Bermuda', 'United Kingdom Islands, Caribbean', 'Hong Kong', 'Singapore']\n",
    "\n",
    "missing = ['(*)', 'G', 'A', 'n.s.', 'H', '(D)']\n",
    "\n",
    "# Employees are in thousands. Express them in people. \n",
    "emp = pd.read_csv('../1-raw-data/usdia-employees-2012.csv', header = 5, nrows=234, na_values=missing, converters = {0: str.strip}, index_col=[0])\n",
    "emp.columns = ['emp']\n",
    "emp = emp*1000\n",
    "\n",
    "ast = pd.read_csv('../1-raw-data/usdia-total-assets-2012.csv', header = 5, nrows=234, na_values=missing, converters = {0: str.strip}, index_col=[0])\n",
    "ast.columns = ['assets']\n",
    "\n",
    "comp = pd.read_csv('../1-raw-data/usdia-comp-2012.csv', header = 5, nrows=234, na_values=missing, converters = {0: str.strip}, index_col=[0])\n",
    "comp.columns = ['comp']\n",
    "\n",
    "ppe = pd.read_csv('../1-raw-data/usdia-ppe-2012.csv', header = 5, nrows=234, na_values=missing, converters = {0: str.strip}, index_col=[0])\n",
    "ppe.columns = ['ppe']\n",
    "\n",
    "t1 = pd.merge(left=emp, right=ast, left_index=True, right_index=True, how = 'inner')\n",
    "t1 = pd.merge(left=t1, right=comp, left_index=True, right_index=True, how = 'inner')\n",
    "t1 = pd.merge(left=t1, right=ppe, left_index=True, right_index=True, how = 'inner')"
   ]
  },
  {
   "cell_type": "code",
   "execution_count": 3,
   "id": "c9a5e417",
   "metadata": {},
   "outputs": [],
   "source": [
    "t1 = t1.loc[ctys].copy()\n",
    "t1['Employment'] = t1['assets']/t1['emp']\n",
    "t1['Compensation'] = t1['assets']/t1['comp']\n",
    "t1['PPE'] = t1['assets']/t1['ppe']\n",
    "t1 = t1[['PPE', 'Compensation', 'Employment']]\n",
    "\n",
    "t1 = t1.rename(index={'All Countries Total':'World', 'United Kingdom Islands, Caribbean':'U.K.I., Caribbean'})"
   ]
  },
  {
   "cell_type": "code",
   "execution_count": 4,
   "id": "e420b3a5",
   "metadata": {},
   "outputs": [
    {
     "name": "stdout",
     "output_type": "stream",
     "text": [
      "\\begin{table}\n",
      "\\centering\n",
      "\\caption{Assets in U.S.-owned foreign affiliates, 2012}\n",
      "\\begin{tabular}{lSSS}\n",
      "\\toprule\n",
      "{} &    PPE &  Compensation &  Employment \\\\\n",
      "\\midrule\n",
      "World             &   16.8 &          39.0 &         1.8 \\\\\n",
      "Canada            &    6.4 &          21.2 &         1.2 \\\\\n",
      "[1ex]\n",
      "Ireland           &   20.0 &         142.7 &        10.9 \\\\\n",
      "Luxembourg        & 1019.6 &        1380.0 &       121.6 \\\\\n",
      "Netherlands       &   97.7 &         115.3 &         8.7 \\\\\n",
      "Switzerland       &   59.9 &          60.0 &         7.7 \\\\\n",
      "[1ex]\n",
      "Barbados          &   41.8 &        1444.7 &        43.3 \\\\\n",
      "Bermuda           &  130.8 &        1475.5 &       155.8 \\\\\n",
      "U.K.I., Caribbean &  101.2 &        3330.2 &       199.8 \\\\\n",
      "[1ex]\n",
      "Hong Kong         &   40.3 &          39.3 &         2.7 \\\\\n",
      "Singapore         &   18.6 &          50.3 &         3.1 \\\\\n",
      "\\bottomrule\n",
      "\\end{tabular}\n",
      "\\end{table}\n"
     ]
    }
   ],
   "source": [
    "s = t1.to_latex(float_format=\"%.1f\", column_format='lSSS', caption='Assets in U.S.-owned foreign affiliates, 2012', escape=False)\n",
    "s = add_after(s, 'Canada', '[1ex]')\n",
    "s = add_after(s, 'Switzerland', '[1ex]')\n",
    "s = add_after(s, 'U.K.I., Caribbean', '[1ex]')\n",
    "\n",
    "print(s)\n",
    "fout = open('../4-tables/table1.tex', 'w')\n",
    "fout.write(s)\n",
    "fout.close()"
   ]
  },
  {
   "cell_type": "markdown",
   "id": "968efbca",
   "metadata": {},
   "source": [
    "## Table 2\n",
    "\n",
    "Grab income on usdia by country. "
   ]
  },
  {
   "cell_type": "code",
   "execution_count": 5,
   "id": "6e23f190",
   "metadata": {},
   "outputs": [
    {
     "data": {
      "text/html": [
       "<div>\n",
       "<style scoped>\n",
       "    .dataframe tbody tr th:only-of-type {\n",
       "        vertical-align: middle;\n",
       "    }\n",
       "\n",
       "    .dataframe tbody tr th {\n",
       "        vertical-align: top;\n",
       "    }\n",
       "\n",
       "    .dataframe thead th {\n",
       "        text-align: right;\n",
       "    }\n",
       "</style>\n",
       "<table border=\"1\" class=\"dataframe\">\n",
       "  <thead>\n",
       "    <tr style=\"text-align: right;\">\n",
       "      <th></th>\n",
       "      <th>1982</th>\n",
       "      <th>1983</th>\n",
       "      <th>1984</th>\n",
       "      <th>1985</th>\n",
       "      <th>1986</th>\n",
       "      <th>1987</th>\n",
       "      <th>1988</th>\n",
       "      <th>1989</th>\n",
       "      <th>1990</th>\n",
       "      <th>1991</th>\n",
       "      <th>...</th>\n",
       "      <th>2007</th>\n",
       "      <th>2008</th>\n",
       "      <th>2009</th>\n",
       "      <th>2010</th>\n",
       "      <th>2011</th>\n",
       "      <th>2012</th>\n",
       "      <th>2013</th>\n",
       "      <th>2014</th>\n",
       "      <th>2015</th>\n",
       "      <th>2016</th>\n",
       "    </tr>\n",
       "  </thead>\n",
       "  <tbody>\n",
       "    <tr>\n",
       "      <th>All Countries Total</th>\n",
       "      <td>24828.0</td>\n",
       "      <td>27260.0</td>\n",
       "      <td>30746.0</td>\n",
       "      <td>28778.0</td>\n",
       "      <td>31040.0</td>\n",
       "      <td>40028.0</td>\n",
       "      <td>52057.0</td>\n",
       "      <td>53929.0</td>\n",
       "      <td>58004.0</td>\n",
       "      <td>52087.0</td>\n",
       "      <td>...</td>\n",
       "      <td>350237.0</td>\n",
       "      <td>392954.0</td>\n",
       "      <td>340039.0</td>\n",
       "      <td>417605.0</td>\n",
       "      <td>448235.0</td>\n",
       "      <td>438089.0</td>\n",
       "      <td>448890.0</td>\n",
       "      <td>457122.0</td>\n",
       "      <td>433333.0</td>\n",
       "      <td>430948.0</td>\n",
       "    </tr>\n",
       "  </tbody>\n",
       "</table>\n",
       "<p>1 rows × 35 columns</p>\n",
       "</div>"
      ],
      "text/plain": [
       "                        1982     1983     1984     1985     1986     1987  \\\n",
       "All Countries Total  24828.0  27260.0  30746.0  28778.0  31040.0  40028.0   \n",
       "\n",
       "                        1988     1989     1990     1991  ...      2007  \\\n",
       "All Countries Total  52057.0  53929.0  58004.0  52087.0  ...  350237.0   \n",
       "\n",
       "                         2008      2009      2010      2011      2012  \\\n",
       "All Countries Total  392954.0  340039.0  417605.0  448235.0  438089.0   \n",
       "\n",
       "                         2013      2014      2015      2016  \n",
       "All Countries Total  448890.0  457122.0  433333.0  430948.0  \n",
       "\n",
       "[1 rows x 35 columns]"
      ]
     },
     "execution_count": 5,
     "metadata": {},
     "output_type": "execute_result"
    }
   ],
   "source": [
    "ctys = ['Netherlands', 'Bermuda', 'Ireland', 'Luxembourg', 'United Kingdom Islands, Caribbean[2]',\n",
    "        'Switzerland', 'Singapore', 'Japan', 'Germany', \n",
    "        'United Kingdom', 'France', 'China', 'Italy', 'Canada']\n",
    "\n",
    "usdia_inc = pd.read_excel('../1-raw-data/usdiainc_country.xls', header=6, nrows=253, na_values=['n.s.', '...', '(D)', '(*)', '---','--', '----'],\n",
    "                       index_col='Unnamed: 0')\n",
    "usdia_inc.index = usdia_inc.index.str.strip()\n",
    "\n",
    "usdia_inc.head(1)"
   ]
  },
  {
   "cell_type": "markdown",
   "id": "88edf93d",
   "metadata": {},
   "source": [
    "We need the income adjustment factor from the aggregate public data."
   ]
  },
  {
   "cell_type": "code",
   "execution_count": 6,
   "id": "cd678e2b",
   "metadata": {},
   "outputs": [],
   "source": [
    "agg_data = pd.read_csv('../3-intermediate-files/aggregate.csv', index_col=['year'])\n",
    "iaf16 = agg_data.loc[2016, 'income_adj_factor']"
   ]
  },
  {
   "cell_type": "markdown",
   "id": "ee5e5cfe",
   "metadata": {},
   "source": [
    "Load the country-level adjustments. The total adjustment is the adjustment from the confidential data plus (minus wrt the sign convention) the net income payments times the income adjustment factor. "
   ]
  },
  {
   "cell_type": "code",
   "execution_count": 7,
   "id": "6dd8c53b",
   "metadata": {},
   "outputs": [
    {
     "data": {
      "text/html": [
       "<div>\n",
       "<style scoped>\n",
       "    .dataframe tbody tr th:only-of-type {\n",
       "        vertical-align: middle;\n",
       "    }\n",
       "\n",
       "    .dataframe tbody tr th {\n",
       "        vertical-align: top;\n",
       "    }\n",
       "\n",
       "    .dataframe thead th {\n",
       "        text-align: right;\n",
       "    }\n",
       "</style>\n",
       "<table border=\"1\" class=\"dataframe\">\n",
       "  <thead>\n",
       "    <tr style=\"text-align: right;\">\n",
       "      <th></th>\n",
       "      <th>adjcomps</th>\n",
       "      <th>adjsales</th>\n",
       "      <th>adjrdstks</th>\n",
       "      <th>adjppes</th>\n",
       "      <th>adjwt3s</th>\n",
       "      <th>nips</th>\n",
       "      <th>2016</th>\n",
       "      <th>total adjustment earn</th>\n",
       "      <th>share adj earn</th>\n",
       "      <th>share income</th>\n",
       "    </tr>\n",
       "  </thead>\n",
       "  <tbody>\n",
       "    <tr>\n",
       "      <th>Netherlands</th>\n",
       "      <td>-56.056532</td>\n",
       "      <td>-52.111587</td>\n",
       "      <td>-54.030339</td>\n",
       "      <td>-54.69904</td>\n",
       "      <td>-56.310608</td>\n",
       "      <td>-11.083156</td>\n",
       "      <td>70098.0</td>\n",
       "      <td>-59.12203</td>\n",
       "      <td>42.142011</td>\n",
       "      <td>64.520318</td>\n",
       "    </tr>\n",
       "  </tbody>\n",
       "</table>\n",
       "</div>"
      ],
      "text/plain": [
       "              adjcomps   adjsales  adjrdstks   adjppes    adjwt3s       nips  \\\n",
       "Netherlands -56.056532 -52.111587 -54.030339 -54.69904 -56.310608 -11.083156   \n",
       "\n",
       "                2016  total adjustment earn  share adj earn  share income  \n",
       "Netherlands  70098.0              -59.12203       42.142011     64.520318  "
      ]
     },
     "execution_count": 7,
     "metadata": {},
     "output_type": "execute_result"
    }
   ],
   "source": [
    "cty_adj = pd.read_excel('../0-confidential-data-replication-files/USDIA/OutputAdjNetCountry2016.xlsx', \n",
    "                   index_col='CountryName')\n",
    "cty_adj = cty_adj.rename(index={'UK Islands - Caribbean':'United Kingdom Islands, Caribbean[2]',\n",
    "                                'UK': 'United Kingdom'})\n",
    "\n",
    "temp = pd.concat([cty_adj.loc[ctys], usdia_inc.loc[ctys, '2016']], axis=1)\n",
    "\n",
    "temp['total adjustment earn'] = (temp['adjwt3s'])*iaf16\n",
    "\n",
    "total_adj_earn = cty_adj['adjwt3s'].sum()*iaf16\n",
    "\n",
    "temp['share adj earn'] = temp['total adjustment earn']/total_adj_earn*100\n",
    "temp['share income'] = ((temp['adjwt3s']-temp['nips'])/(temp['2016'])*100*1000).abs()\n",
    "temp.head(1)"
   ]
  },
  {
   "cell_type": "markdown",
   "id": "47757ccc",
   "metadata": {},
   "source": [
    "Arrange everything to output. "
   ]
  },
  {
   "cell_type": "code",
   "execution_count": 8,
   "id": "ea2ec3a9",
   "metadata": {},
   "outputs": [],
   "source": [
    "pos = ['Netherlands', 'Bermuda', 'Ireland', 'Luxembourg', \n",
    "                  'United Kingdom Islands, Caribbean[2]', 'Switzerland', 'Singapore']\n",
    "neg = ['Germany', 'France', 'United Kingdom',  'Canada',    'Italy', 'China','Japan']\n",
    "\n",
    "t2 = temp.loc[pos, ['share adj earn', 'share income']]\n",
    "negs = temp.loc[neg, ['share adj earn', 'share income']].reset_index()\n",
    "negs['share adj earn'] = negs['share adj earn']*(-1)\n",
    "negs = negs.rename(index=dict(zip(range(0,7),pos)))\n",
    "t2 = pd.concat( [t2, negs], axis=1).reset_index()\n",
    "\n",
    "t2.loc[t2['level_0']=='United Kingdom Islands, Caribbean[2]', 'level_0'] = 'U.K.I., Caribbean'\n",
    "t2['index'] = '\\hspace{1ex}' + t2['index']\n",
    "t2['level_0'] = '\\hspace{1ex}' + t2['level_0']"
   ]
  },
  {
   "cell_type": "code",
   "execution_count": 9,
   "id": "bb783a87",
   "metadata": {},
   "outputs": [
    {
     "name": "stdout",
     "output_type": "stream",
     "text": [
      "\\begin{tabular}{lcclc}\n",
      "\\toprule\n",
      "                      level_0 & share adj earn & share income &                      index & share adj earn & share income \\\\\n",
      "\\midrule\n",
      "      \\hspace{1ex}Netherlands &           42.1 &         64.5 &        \\hspace{1ex}Germany &           7.96 &        211.7 \\\\\n",
      "          \\hspace{1ex}Bermuda &           30.0 &         81.8 &         \\hspace{1ex}France &           5.37 &        242.5 \\\\\n",
      "          \\hspace{1ex}Ireland &           23.1 &         54.3 & \\hspace{1ex}United Kingdom &           4.58 &         26.8 \\\\\n",
      "       \\hspace{1ex}Luxembourg &           17.8 &         65.2 &         \\hspace{1ex}Canada &           4.01 &         26.8 \\\\\n",
      "\\hspace{1ex}U.K.I., Caribbean &           21.0 &         84.2 &          \\hspace{1ex}Italy &           3.68 &        296.3 \\\\\n",
      "      \\hspace{1ex}Switzerland &           12.1 &         46.9 &          \\hspace{1ex}China &           3.08 &         34.6 \\\\\n",
      "        \\hspace{1ex}Singapore &           10.6 &         52.5 &          \\hspace{1ex}Japan &           2.13 &         88.0 \\\\\n",
      "\\bottomrule\n",
      "\\end{tabular}\n",
      "\n"
     ]
    }
   ],
   "source": [
    "\n",
    "formatters=[lambda x: '%s' % x, lambda x: '%.1f' % x, lambda x: '%.1f' % x, \n",
    "            lambda x: '%s' % x, lambda x: '%.2f' % x, lambda x: '%.1f' % x]\n",
    "            \n",
    "s = t2.to_latex(formatters = formatters, column_format='lcclc', index=False, escape=False)\n",
    "\n",
    "print(s)\n",
    "fout = open('../4-tables/table2.tex', 'w')\n",
    "fout.write(s)\n",
    "fout.close()"
   ]
  },
  {
   "cell_type": "markdown",
   "id": "580476ef",
   "metadata": {},
   "source": [
    "## Table 4"
   ]
  },
  {
   "cell_type": "code",
   "execution_count": 10,
   "id": "d022e0ca",
   "metadata": {},
   "outputs": [
    {
     "data": {
      "text/html": [
       "<div>\n",
       "<style scoped>\n",
       "    .dataframe tbody tr th:only-of-type {\n",
       "        vertical-align: middle;\n",
       "    }\n",
       "\n",
       "    .dataframe tbody tr th {\n",
       "        vertical-align: top;\n",
       "    }\n",
       "\n",
       "    .dataframe thead th {\n",
       "        text-align: right;\n",
       "    }\n",
       "</style>\n",
       "<table border=\"1\" class=\"dataframe\">\n",
       "  <thead>\n",
       "    <tr style=\"text-align: right;\">\n",
       "      <th></th>\n",
       "      <th>NAICS</th>\n",
       "      <th>NAICS Description</th>\n",
       "      <th>total adjustment</th>\n",
       "      <th>share of adjustment</th>\n",
       "    </tr>\n",
       "  </thead>\n",
       "  <tbody>\n",
       "    <tr>\n",
       "      <th>0</th>\n",
       "      <td>33</td>\n",
       "      <td>Metals, machinery, computers, electrical equip...</td>\n",
       "      <td>-50.956455</td>\n",
       "      <td>36.321613</td>\n",
       "    </tr>\n",
       "  </tbody>\n",
       "</table>\n",
       "</div>"
      ],
      "text/plain": [
       "   NAICS                                  NAICS Description  total adjustment  \\\n",
       "0     33  Metals, machinery, computers, electrical equip...        -50.956455   \n",
       "\n",
       "   share of adjustment  \n",
       "0            36.321613  "
      ]
     },
     "execution_count": 10,
     "metadata": {},
     "output_type": "execute_result"
    }
   ],
   "source": [
    "t4 = pd.read_excel('../0-confidential-data-replication-files/USDIA/OutputAdjNetIndustry.xlsx', \n",
    "                   usecols=['Year','IEDindPar','adjwt3s'])\n",
    "t4 = t4[t4['Year']==2016]\n",
    "\n",
    "ied = pd.read_csv('../1-raw-data/author-created-concordances/ied-codes.csv')\n",
    "t4 = pd.merge(left=t4, right=ied, left_on='IEDindPar', right_on='IED Code')\n",
    "\n",
    "t4['total adjustment'] = t4['adjwt3s']*iaf16\n",
    "total_adj = t4['total adjustment'].sum()\n",
    "t4 = t4[['NAICS', 'NAICS Description', 'total adjustment']].groupby(['NAICS', 'NAICS Description']).sum().sort_values('total adjustment')\n",
    "t4['share of adjustment'] = t4['total adjustment']/total_adj*100\n",
    "t4 = t4.reset_index()\n",
    "t4.head(1)"
   ]
  },
  {
   "cell_type": "markdown",
   "id": "21b5ba16",
   "metadata": {},
   "source": [
    "Get the value added by industry data. A few industry names change over the sample, so they need to be tweaked to match the concordance."
   ]
  },
  {
   "cell_type": "code",
   "execution_count": 11,
   "id": "4c83e3e3",
   "metadata": {},
   "outputs": [],
   "source": [
    "nva_ind = pd.read_csv('../1-raw-data/va-by-industry-97-16.csv', header=4, nrows=98)\n",
    "nva_ind = nva_ind[['Unnamed: 1', '2016']]\n",
    "nva_ind['Description nva'] = nva_ind['Unnamed: 1'].str.strip()\n",
    "\n",
    "reps = {'Publishing industries, except internet (includes software)':'Publishing industries',\n",
    "       'Data processing, internet publishing, and other information services':'Information and data processing services'}\n",
    "\n",
    "nva_ind['Description nva'] = nva_ind['Description nva'].replace(reps)\n",
    "\n",
    "nva_ind = pd.merge(left=nva_ind, right=ied, left_on='Description nva', right_on='Description', how='inner')\n",
    "nva_ind = nva_ind.groupby('NAICS').sum().reset_index()\n",
    "\n",
    "t4 = pd.merge(left=t4, right=nva_ind[['NAICS', '2016']], on='NAICS')\n",
    "t4['share of va'] = t4['total adjustment']/t4['2016']*100*(-1)"
   ]
  },
  {
   "cell_type": "markdown",
   "id": "ddf773c1",
   "metadata": {},
   "source": [
    "Print out the table. "
   ]
  },
  {
   "cell_type": "code",
   "execution_count": 12,
   "id": "6e32c4b4",
   "metadata": {},
   "outputs": [],
   "source": [
    "pretty_names = {'Metals, machinery, computers, electrical equipment, motor vehicles, furniture':'Computers, electrical equip., motor vehicles',\n",
    "                'Wood, paper, printing, petroleum, chemicals, plastics':'Petroleum, chemicals, plastics, wood, paper',\n",
    "                'Professional and business services':'Legal, computer sys. design, scientific R\\&D',\n",
    "                'Information':'Publishing, information, data processing',\n",
    "                'Finance and insurance': 'Finance, insurance',\n",
    "               'Real estate and rental and leasing':'Real estate, leasing',\n",
    "               'Administrative and waste management services':'Administrative services',\n",
    "               'Transportation and warehousing':'Transportation, warehousing',\n",
    "               'Educational services, health care, and social assistance':'Education, health care',\n",
    "               'Arts, entertainment, recreation, accommodation, and food services':'Arts, entertainment, accommodation'}\n",
    "\n",
    "t4['NAICS Description'] = t4['NAICS Description'].replace(pretty_names)\n",
    "t4['Key industries'] = t4['NAICS'].astype(str) + ' ' + t4['NAICS Description']\n",
    "t4 = t4.drop(['NAICS Description', 'NAICS', 'total adjustment', '2016'], axis=1)\n",
    "\n",
    "t4 = t4[['Key industries', 'share of adjustment', 'share of va']]"
   ]
  },
  {
   "cell_type": "code",
   "execution_count": 13,
   "id": "5eaddc39",
   "metadata": {},
   "outputs": [
    {
     "name": "stdout",
     "output_type": "stream",
     "text": [
      "\\begin{tabular}{lSS}\n",
      "\\toprule\n",
      "                                 Key industries &  share of adjustment &  share of va \\\\\n",
      "\\midrule\n",
      "33 Computers, electrical equip., motor vehicles &                36.32 &         4.65 \\\\\n",
      " 32 Petroleum, chemicals, plastics, wood, paper &                27.01 &         5.30 \\\\\n",
      "54 Legal, computer sys. design, scientific R\\&D &                 8.28 &         0.83 \\\\\n",
      "    51 Publishing, information, data processing &                 8.12 &         1.17 \\\\\n",
      "                          52 Finance, insurance &                 5.58 &         0.53 \\\\\n",
      "                     31 Food, textiles, apparel &                 3.24 &         1.55 \\\\\n",
      "                                      21 Mining &                 3.22 &         2.07 \\\\\n",
      "                        53 Real estate, leasing &                 2.31 &         0.13 \\\\\n",
      "           80 Other services, except government &                 2.10 &         0.74 \\\\\n",
      "                                   22 Utilities &                 1.94 &         0.90 \\\\\n",
      "                     56 Administrative services &                 1.53 &         0.38 \\\\\n",
      "                             42 Wholesale trade &                 1.20 &         0.15 \\\\\n",
      "                 48 Transportation, warehousing &                 0.93 &         0.22 \\\\\n",
      "                                23 Construction &                 0.28 &         0.05 \\\\\n",
      "                      60 Education, health care &                -0.13 &        -0.01 \\\\\n",
      "                                44 Retail trade &                -0.29 &        -0.04 \\\\\n",
      " 11 Agriculture, forestry, fishing, and hunting &                -0.51 &        -0.43 \\\\\n",
      "     55 Management of companies and enterprises &                -0.56 &        -0.22 \\\\\n",
      "          70 Arts, entertainment, accommodation &                -0.58 &        -0.10 \\\\\n",
      "\\bottomrule\n",
      "\\end{tabular}\n",
      "\n"
     ]
    }
   ],
   "source": [
    "s = t4.to_latex(float_format='%.2f', column_format='lSS', index=False, escape=False)\n",
    "print(s)\n",
    "fout = open('../4-tables/table4.tex', 'w')\n",
    "fout.write(s)\n",
    "fout.close()"
   ]
  },
  {
   "cell_type": "markdown",
   "id": "8c2c278c",
   "metadata": {},
   "source": [
    "## Table 7"
   ]
  },
  {
   "cell_type": "code",
   "execution_count": 14,
   "id": "30c3ab8e",
   "metadata": {},
   "outputs": [
    {
     "data": {
      "text/html": [
       "<div>\n",
       "<style scoped>\n",
       "    .dataframe tbody tr th:only-of-type {\n",
       "        vertical-align: middle;\n",
       "    }\n",
       "\n",
       "    .dataframe tbody tr th {\n",
       "        vertical-align: top;\n",
       "    }\n",
       "\n",
       "    .dataframe thead th {\n",
       "        text-align: right;\n",
       "    }\n",
       "</style>\n",
       "<table border=\"1\" class=\"dataframe\">\n",
       "  <thead>\n",
       "    <tr style=\"text-align: right;\">\n",
       "      <th></th>\n",
       "      <th>N</th>\n",
       "      <th>RD</th>\n",
       "      <th>Employees</th>\n",
       "      <th>AdjFA</th>\n",
       "      <th>total rd</th>\n",
       "      <th>total emp</th>\n",
       "      <th>rd share</th>\n",
       "      <th>emp share</th>\n",
       "      <th>shifted profit</th>\n",
       "    </tr>\n",
       "    <tr>\n",
       "      <th>Year</th>\n",
       "      <th></th>\n",
       "      <th></th>\n",
       "      <th></th>\n",
       "      <th></th>\n",
       "      <th></th>\n",
       "      <th></th>\n",
       "      <th></th>\n",
       "      <th></th>\n",
       "      <th></th>\n",
       "    </tr>\n",
       "  </thead>\n",
       "  <tbody>\n",
       "    <tr>\n",
       "      <th>2008</th>\n",
       "      <td>137</td>\n",
       "      <td>18461505</td>\n",
       "      <td>759509</td>\n",
       "      <td>2.093656e+06</td>\n",
       "      <td>40727</td>\n",
       "      <td>5636.2</td>\n",
       "      <td>0.453299</td>\n",
       "      <td>0.134756</td>\n",
       "      <td>2.093656</td>\n",
       "    </tr>\n",
       "  </tbody>\n",
       "</table>\n",
       "</div>"
      ],
      "text/plain": [
       "        N        RD  Employees         AdjFA  total rd  total emp  rd share  \\\n",
       "Year                                                                          \n",
       "2008  137  18461505     759509  2.093656e+06     40727     5636.2  0.453299   \n",
       "\n",
       "      emp share  shifted profit  \n",
       "Year                             \n",
       "2008   0.134756        2.093656  "
      ]
     },
     "execution_count": 14,
     "metadata": {},
     "output_type": "execute_result"
    }
   ],
   "source": [
    "stata = pd.read_excel('../0-confidential-data-replication-files/FDIUS/TableForPaper.xlsx', \n",
    "                      sheet_name='Stata Output', index_col='Year')\n",
    "\n",
    "rd = pd.read_excel('../0-confidential-data-replication-files/FDIUS/TableForPaper.xlsx', \n",
    "                      sheet_name='BEA AMNE FDIUS RD', header=6, nrows=1, index_col=[0]).transpose()\n",
    "rd.index = rd.index.astype(int)\n",
    "rd = rd.rename(columns={'All Industries Total':'total rd'})\n",
    "\n",
    "emp = pd.read_excel('../0-confidential-data-replication-files/FDIUS/TableForPaper.xlsx', \n",
    "                      sheet_name='BEA AMNE FDIUS Emp', header=6, nrows=1, index_col=[0]).transpose()\n",
    "emp.index = emp.index.astype(int)\n",
    "emp = emp.rename(columns={'All Industries Total':'total emp'})\n",
    "\n",
    "t7 = pd.merge(left=stata, right=rd, left_index=True, right_index=True)\n",
    "t7 = pd.merge(left=t7, right=emp, left_index=True, right_index=True)\n",
    "\n",
    "t7['rd share'] = t7['RD']/t7['total rd']/1000\n",
    "t7['emp share'] = t7['Employees']/t7['total emp']/1000\n",
    "t7['shifted profit'] = t7['AdjFA']/1000000\n",
    "\n",
    "t7.head(1)"
   ]
  },
  {
   "cell_type": "markdown",
   "id": "f154e14f",
   "metadata": {},
   "source": [
    "We need the aggregate adjustment to USDIA, too. "
   ]
  },
  {
   "cell_type": "code",
   "execution_count": 15,
   "id": "086d0614",
   "metadata": {},
   "outputs": [
    {
     "data": {
      "text/html": [
       "<div>\n",
       "<style scoped>\n",
       "    .dataframe tbody tr th:only-of-type {\n",
       "        vertical-align: middle;\n",
       "    }\n",
       "\n",
       "    .dataframe tbody tr th {\n",
       "        vertical-align: top;\n",
       "    }\n",
       "\n",
       "    .dataframe thead th {\n",
       "        text-align: right;\n",
       "    }\n",
       "</style>\n",
       "<table border=\"1\" class=\"dataframe\">\n",
       "  <thead>\n",
       "    <tr style=\"text-align: right;\">\n",
       "      <th></th>\n",
       "      <th>N</th>\n",
       "      <th>RD</th>\n",
       "      <th>Employees</th>\n",
       "      <th>AdjFA</th>\n",
       "      <th>total rd</th>\n",
       "      <th>total emp</th>\n",
       "      <th>rd share</th>\n",
       "      <th>emp share</th>\n",
       "      <th>shifted profit</th>\n",
       "      <th>Year</th>\n",
       "      <th>adjwt3s</th>\n",
       "      <th>income_adj_factor</th>\n",
       "      <th>usdia shifted profit</th>\n",
       "    </tr>\n",
       "  </thead>\n",
       "  <tbody>\n",
       "    <tr>\n",
       "      <th>16</th>\n",
       "      <td>137</td>\n",
       "      <td>18461505</td>\n",
       "      <td>759509</td>\n",
       "      <td>2.093656e+06</td>\n",
       "      <td>40727</td>\n",
       "      <td>5636.2</td>\n",
       "      <td>0.453299</td>\n",
       "      <td>0.134756</td>\n",
       "      <td>2.093656</td>\n",
       "      <td>2008</td>\n",
       "      <td>-176.418809</td>\n",
       "      <td>1.032865</td>\n",
       "      <td>182.21681</td>\n",
       "    </tr>\n",
       "  </tbody>\n",
       "</table>\n",
       "</div>"
      ],
      "text/plain": [
       "      N        RD  Employees         AdjFA  total rd  total emp  rd share  \\\n",
       "16  137  18461505     759509  2.093656e+06     40727     5636.2  0.453299   \n",
       "\n",
       "    emp share  shifted profit  Year     adjwt3s  income_adj_factor  \\\n",
       "16   0.134756        2.093656  2008 -176.418809           1.032865   \n",
       "\n",
       "    usdia shifted profit  \n",
       "16             182.21681  "
      ]
     },
     "execution_count": 15,
     "metadata": {},
     "output_type": "execute_result"
    }
   ],
   "source": [
    "usdia = pd.read_excel('../0-confidential-data-replication-files/USDIA/OutputAdjNet.xlsx', \n",
    "                      usecols=['Year', 'adjwt3s'])\n",
    "usdia = pd.merge(left=usdia, right=agg_data['income_adj_factor'], left_on='Year', right_index=True)\n",
    "\n",
    "usdia['usdia shifted profit'] = usdia['income_adj_factor']*usdia['adjwt3s']*(-1)\n",
    "\n",
    "t7 = pd.merge(left=t7, right=usdia, left_index = True, right_on='Year', how='left')\n",
    "t7.head(1)"
   ]
  },
  {
   "cell_type": "markdown",
   "id": "026f05f0",
   "metadata": {},
   "source": [
    "Set up the table for printing. "
   ]
  },
  {
   "cell_type": "code",
   "execution_count": 16,
   "id": "06af5664",
   "metadata": {},
   "outputs": [
    {
     "name": "stdout",
     "output_type": "stream",
     "text": [
      "\\begin{tabular}{lccccc}\n",
      "\\toprule\n",
      "Year &   N & rd share & emp share & shifted profit & usdia shifted profit \\\\\n",
      "\\midrule\n",
      "2008 & 137 &     0.45 &      0.13 &            2.1 &                182.2 \\\\\n",
      "2012 & 136 &     0.43 &      0.13 &           12.3 &                144.0 \\\\\n",
      "2015 & 127 &     0.32 &      0.11 &            3.5 &                156.5 \\\\\n",
      "\\bottomrule\n",
      "\\end{tabular}\n",
      "\n"
     ]
    }
   ],
   "source": [
    "t7 = t7[['Year', 'N', 'rd share', 'emp share', 'shifted profit', 'usdia shifted profit']]\n",
    "\n",
    "formatters=[lambda x: '%.0f' % x, lambda x: '%.0f' % x, lambda x: '%.2f' % x, \n",
    "            lambda x: '%.2f' % x, lambda x: '%.1f' % x, lambda x: '%.1f' % x]\n",
    "            \n",
    "s = t7.to_latex(formatters = formatters, column_format='lccccc', index=False, escape=False)\n",
    "\n",
    "print(s)\n",
    "fout = open('../4-tables/table7.tex', 'w')\n",
    "fout.write(s)\n",
    "fout.close()"
   ]
  },
  {
   "cell_type": "markdown",
   "id": "0add735a",
   "metadata": {},
   "source": [
    "## Table C1"
   ]
  },
  {
   "cell_type": "code",
   "execution_count": 17,
   "id": "e47586ea",
   "metadata": {},
   "outputs": [],
   "source": [
    "ctys[ctys.index('United Kingdom Islands, Caribbean[2]')] = 'UK Islands - Caribbean'\n",
    "ctys[ctys.index('United Kingdom')] = 'UK'"
   ]
  },
  {
   "cell_type": "code",
   "execution_count": 18,
   "id": "8815b65f",
   "metadata": {},
   "outputs": [],
   "source": [
    "cty_adj = pd.read_excel('../0-confidential-data-replication-files/USDIA/OutputAdjNetCountry2016.xlsx', index_col='CountryName')\n",
    "\n",
    "oth = pd.DataFrame(cty_adj.loc[~cty_adj.index.isin(ctys)].sum(), columns=['Other countries']).transpose()\n",
    "tot = pd.DataFrame(cty_adj.sum(),                                columns=['All countries']).transpose()\n",
    "\n",
    "c1 = pd.concat([tot, cty_adj.loc[ctys].sort_index(), oth], axis=0)\n",
    "c1 = c1[['adjwt3s', 'adjcomps', 'adjppes', 'adjrdstks']]*iaf16\n",
    "\n",
    "c1.columns = ['{Weighted}', '{Only compensation}', '{Only PPE}', '{Only R\\&D}']\n",
    "c1 = c1.rename(index={'UK':'United Kingdom', 'UK Islands - Caribbean':'U.K.I., Caribbean'})"
   ]
  },
  {
   "cell_type": "code",
   "execution_count": 19,
   "id": "b3c01881",
   "metadata": {},
   "outputs": [
    {
     "name": "stdout",
     "output_type": "stream",
     "text": [
      "\\begin{tabular}{lSSSS}\n",
      "\\toprule\n",
      "{} &  {Weighted} &  {Only compensation} &  {Only PPE} &  {Only R\\&D} \\\\\n",
      "\\midrule\n",
      "All countries     &      -140.3 &               -125.1 &      -120.8 &       -167.2 \\\\\n",
      "Bermuda           &       -42.1 &                -43.0 &       -42.2 &        -40.5 \\\\\n",
      "Canada            &         5.6 &                  7.5 &         5.9 &          1.7 \\\\\n",
      "China             &         4.3 &                  7.2 &         7.1 &         -1.3 \\\\\n",
      "France            &         7.5 &                 12.0 &         5.8 &          3.5 \\\\\n",
      "Germany           &        11.2 &                 13.5 &         8.4 &         10.9 \\\\\n",
      "Ireland           &       -32.5 &                -43.8 &        -8.1 &        -44.4 \\\\\n",
      "Italy             &         5.2 &                  6.5 &         6.4 &          2.3 \\\\\n",
      "Japan             &         3.0 &                  5.8 &         1.8 &          1.1 \\\\\n",
      "Luxembourg        &       -25.0 &                -25.5 &       -25.2 &        -23.1 \\\\\n",
      "Netherlands       &       -59.1 &                -58.9 &       -57.4 &        -56.7 \\\\\n",
      "Singapore         &       -14.9 &                -13.7 &       -13.5 &        -16.5 \\\\\n",
      "Switzerland       &       -17.0 &                -17.6 &       -20.7 &         -9.7 \\\\\n",
      "United Kingdom    &         6.4 &                  5.2 &        -2.6 &         17.2 \\\\\n",
      "U.K.I., Caribbean &       -29.5 &                -30.6 &       -28.4 &        -23.9 \\\\\n",
      "Other countries   &        36.6 &                 50.4 &        41.8 &         12.2 \\\\\n",
      "\\bottomrule\n",
      "\\end{tabular}\n",
      "\n"
     ]
    }
   ],
   "source": [
    "s = c1.to_latex(float_format='%.1f', column_format='lSSSS', escape=False)\n",
    "\n",
    "print(s)\n",
    "fout = open('../4-tables/tablec1.tex', 'w')\n",
    "fout.write(s)\n",
    "fout.close()"
   ]
  },
  {
   "cell_type": "markdown",
   "id": "2c1b7fc1",
   "metadata": {},
   "source": [
    "## Table C2"
   ]
  },
  {
   "cell_type": "code",
   "execution_count": 20,
   "id": "cedb13e1",
   "metadata": {},
   "outputs": [
    {
     "data": {
      "text/html": [
       "<div>\n",
       "<style scoped>\n",
       "    .dataframe tbody tr th:only-of-type {\n",
       "        vertical-align: middle;\n",
       "    }\n",
       "\n",
       "    .dataframe tbody tr th {\n",
       "        vertical-align: top;\n",
       "    }\n",
       "\n",
       "    .dataframe thead th {\n",
       "        text-align: right;\n",
       "    }\n",
       "</style>\n",
       "<table border=\"1\" class=\"dataframe\">\n",
       "  <thead>\n",
       "    <tr style=\"text-align: right;\">\n",
       "      <th></th>\n",
       "      <th>Directly-held affiliates</th>\n",
       "      <th>Indirectly-held affiliates</th>\n",
       "      <th>Net adjustment</th>\n",
       "    </tr>\n",
       "    <tr>\n",
       "      <th>Year</th>\n",
       "      <th></th>\n",
       "      <th></th>\n",
       "      <th></th>\n",
       "    </tr>\n",
       "  </thead>\n",
       "  <tbody>\n",
       "    <tr>\n",
       "      <th>1982</th>\n",
       "      <td>16.41182</td>\n",
       "      <td>-2.231101</td>\n",
       "      <td>14.180719</td>\n",
       "    </tr>\n",
       "  </tbody>\n",
       "</table>\n",
       "</div>"
      ],
      "text/plain": [
       "      Directly-held affiliates  Indirectly-held affiliates  Net adjustment\n",
       "Year                                                                      \n",
       "1982                  16.41182                   -2.231101       14.180719"
      ]
     },
     "execution_count": 20,
     "metadata": {},
     "output_type": "execute_result"
    }
   ],
   "source": [
    "indirect = pd.read_excel('../0-confidential-data-replication-files/USDIA/OutputAdjIndirect.xlsx',\n",
    "                   index_col='Year', usecols=['Year', 'adjwt3s'])\n",
    "indirect['adjwt3s'] = indirect['adjwt3s']*(-1)*agg_data['income_adj_factor']\n",
    "indirect.columns = ['Indirectly-held affiliates']\n",
    "\n",
    "direct = pd.read_excel('../0-confidential-data-replication-files/USDIA/OutputAdjDirect.xlsx',\n",
    "                   index_col='Year', usecols=['Year', 'adjwt3s'])\n",
    "direct['adjwt3s'] = direct['adjwt3s']*(-1)*agg_data['income_adj_factor']\n",
    "direct.columns = ['Directly-held affiliates']\n",
    "\n",
    "c2 = pd.merge(left=direct, right=indirect, right_index=True, left_index=True, how='inner')\n",
    "c2['Net adjustment'] = c2['Directly-held affiliates'] + c2['Indirectly-held affiliates']\n",
    "\n",
    "c2 = c2.reindex(range(1982,2017)).interpolate()\n",
    "c2.head(1)"
   ]
  },
  {
   "cell_type": "code",
   "execution_count": 21,
   "id": "e8c46e4d",
   "metadata": {},
   "outputs": [
    {
     "name": "stdout",
     "output_type": "stream",
     "text": [
      "\\begin{tabular}{lSSS}\n",
      "\\toprule\n",
      "{} &  Directly-held affiliates &  Indirectly-held affiliates &  Net adjustment \\\\\n",
      "Year &                           &                             &                 \\\\\n",
      "\\midrule\n",
      "1982 &                      16.4 &                        -2.2 &            14.2 \\\\\n",
      "1983 &                      18.5 &                        -3.2 &            15.4 \\\\\n",
      "1984 &                      20.7 &                        -4.1 &            16.6 \\\\\n",
      "1985 &                      22.8 &                        -5.0 &            17.8 \\\\\n",
      "1986 &                      24.9 &                        -5.9 &            19.0 \\\\\n",
      "1987 &                      27.0 &                        -6.9 &            20.2 \\\\\n",
      "1988 &                      29.2 &                        -7.8 &            21.4 \\\\\n",
      "1989 &                      31.3 &                        -8.7 &            22.6 \\\\\n",
      "1990 &                      32.4 &                        -9.6 &            22.8 \\\\\n",
      "1991 &                      33.5 &                       -10.5 &            23.0 \\\\\n",
      "1992 &                      34.7 &                       -11.4 &            23.3 \\\\\n",
      "1993 &                      35.8 &                       -12.3 &            23.5 \\\\\n",
      "1994 &                      36.9 &                       -13.2 &            23.7 \\\\\n",
      "1995 &                      49.3 &                       -13.6 &            35.7 \\\\\n",
      "1996 &                      48.4 &                       -16.8 &            31.6 \\\\\n",
      "1997 &                      60.3 &                       -20.1 &            40.2 \\\\\n",
      "1998 &                      51.9 &                       -23.0 &            28.8 \\\\\n",
      "1999 &                      68.0 &                       -29.0 &            38.9 \\\\\n",
      "2000 &                      80.7 &                       -33.5 &            47.1 \\\\\n",
      "2001 &                      92.7 &                       -26.9 &            65.7 \\\\\n",
      "2002 &                      85.8 &                       -31.0 &            54.8 \\\\\n",
      "2003 &                     103.0 &                       -43.3 &            59.7 \\\\\n",
      "2004 &                     151.1 &                       -64.3 &            86.8 \\\\\n",
      "2005 &                     177.6 &                       -62.6 &           115.0 \\\\\n",
      "2006 &                     190.7 &                       -79.4 &           111.3 \\\\\n",
      "2007 &                     196.0 &                       -73.8 &           122.3 \\\\\n",
      "2008 &                     270.7 &                       -88.5 &           182.2 \\\\\n",
      "2009 &                     248.1 &                       -86.6 &           161.5 \\\\\n",
      "2010 &                     302.1 &                      -112.7 &           189.5 \\\\\n",
      "2011 &                     307.1 &                      -155.0 &           152.1 \\\\\n",
      "2012 &                     290.0 &                      -146.1 &           144.0 \\\\\n",
      "2013 &                     287.6 &                      -166.9 &           120.6 \\\\\n",
      "2014 &                     291.7 &                      -153.1 &           138.6 \\\\\n",
      "2015 &                     276.7 &                      -120.2 &           156.5 \\\\\n",
      "2016 &                     269.5 &                      -129.2 &           140.3 \\\\\n",
      "\\bottomrule\n",
      "\\end{tabular}\n",
      "\n"
     ]
    }
   ],
   "source": [
    "s = c2.to_latex(float_format='%.1f', column_format='lSSS', escape=False)\n",
    "\n",
    "print(s)\n",
    "fout = open('../4-tables/tablec2.tex', 'w')\n",
    "fout.write(s)\n",
    "fout.close()"
   ]
  },
  {
   "cell_type": "markdown",
   "id": "d2b9e949",
   "metadata": {},
   "source": [
    "## Numbers for the draft"
   ]
  },
  {
   "cell_type": "code",
   "execution_count": 22,
   "id": "56215504",
   "metadata": {},
   "outputs": [],
   "source": [
    "adj2015 = pd.read_excel('../0-confidential-data-replication-files/USDIA/OutputAdjNetCountry2015.xlsx', \n",
    "                   index_col='CountryName')\n",
    "adj2015 = adj2015*agg_data.loc[2015,'income_adj_factor']\n",
    "\n",
    "x = {}\n",
    "\n",
    "# Section 1: Introduction\n",
    "x[1.09] = ['asset-ppe ratio Canada', t1.loc['Canada', 'PPE'], '{:.1f}']\n",
    "x[1.10] = ['avg asset-ppe ratio for euro tax havens', t1.loc[['Ireland', 'Luxembourg', 'Netherlands', 'Switzerland'], 'PPE'].mean(), '{:.0f}']\n",
    "x[1.11] = ['avg asset-ppe ratio for caribb tax havens', t1.loc[['Barbados', 'Bermuda', 'U.K.I., Caribbean'], 'PPE'].mean(), '{:.0f}']\n",
    "x[1.17] = ['2016 Netherland share of adjustment', t2.iloc[0,1]/100, '{:.0%}']\n",
    "x[1.18] = ['2016 Bermuda share of adjustment', t2.iloc[1,1]/100, '{:.0%}']\n",
    "\n",
    "x[1.43] = ['2012 directly held affilates ajustment ($bil)', c2.loc[2012,'Directly-held affiliates'], '{:.0f}']\n",
    "\n",
    "# Section 4: \n",
    "x[4.13] = ['2016 Netherland share of adjustment', t2.iloc[0,1]/100, '{:.1%}']\n",
    "x[4.14] = ['2016 Ireland share of adjustment', t2.iloc[2,1]/100, '{:.1%}']\n",
    "x[4.15] = ['2016 NAICS 32 share of adjustment', t4.iloc[1, 1]/100, '{:.0%}']\n",
    "x[4.16] = ['2016 NAICS 51+54 share of adjustment', (t4.iloc[3,1]+t4.iloc[2,1])/100, '{:.0%}']          \n",
    "x[4.17] = ['2016 NAICS 52 share of adjustment', t4.iloc[4, 1]/100, '{:.1%}']\n",
    "\n",
    "x[4.19] = ['2015 Ireland adjustment ($bil)', adj2015.loc['Ireland', 'adjwt3s']*(-1), '{:.1f}']\n",
    "x[4.20] = ['2015 Luxembourg adjustment ($bil)', adj2015.loc['Luxembourg', 'adjwt3s']*(-1), '{:.1f}']\n",
    "x[4.21] = ['2015 Netherlands adjustment ($bil)', adj2015.loc['Netherlands', 'adjwt3s']*(-1), '{:.1f}']\n",
    "x[4.22] = ['2015 Switzerland adjustment ($bil)', adj2015.loc['Switzerland', 'adjwt3s']*(-1), '{:.1f}']\n",
    "x[4.23] = ['2016 Ireland weighted adjustment ($bil)', c1.loc['Ireland', '{Weighted}']*(-1), '{:.1f}']\n",
    "x[4.24] = ['2016 Ireland comp only adjustment ($bil)', c1.loc['Ireland', '{Only compensation}']*(-1), '{:.1f}']\n",
    "x[4.25] = ['2016 Ireland red only adjustment ($bil)', c1.loc['Ireland', '{Only R\\&D}']*(-1), '{:.1f}']\n",
    "x[4.26] = ['2016 Ireland ppe only adjustment ($bil)', c1.loc['Ireland', '{Only PPE}']*(-1), '{:.1f}']\n",
    "\n",
    "# Section 6\n",
    "\n",
    "x[6.00] = ['sample firms avg share of RD spending', t7['rd share'].mean(), '{:.0%}']\n",
    "x[6.01] = ['sample firms avg share of employment', t7['emp share'].mean(), '{:.0%}']\n",
    "x[6.02] = ['increase in gdp from fdius proft shifting 2008 ($bil)',t7.loc[t7['Year']==2008,'shifted profit'].values[0], '{:.1f}']\n",
    "x[6.03] = ['increase in gdp from fdius proft shifting 2012 ($bil)',t7.loc[t7['Year']==2012,'shifted profit'].values[0], '{:.1f}']\n",
    "x[6.04] = ['increase in gdp from fdius proft shifting 2015 ($bil)',t7.loc[t7['Year']==2015,'shifted profit'].values[0], '{:.1f}']\n",
    "\n",
    "pd.DataFrame.from_dict(x, columns=['Description', 'Number', 'Format'], orient='index').to_csv('../3-intermediate-files/numbers-in-text-III.csv')"
   ]
  },
  {
   "cell_type": "code",
   "execution_count": null,
   "id": "8fcec5f6",
   "metadata": {},
   "outputs": [],
   "source": []
  }
 ],
 "metadata": {
  "kernelspec": {
   "display_name": "Python 3",
   "language": "python",
   "name": "python3"
  },
  "language_info": {
   "codemirror_mode": {
    "name": "ipython",
    "version": 3
   },
   "file_extension": ".py",
   "mimetype": "text/x-python",
   "name": "python",
   "nbconvert_exporter": "python",
   "pygments_lexer": "ipython3",
   "version": "3.8.8"
  }
 },
 "nbformat": 4,
 "nbformat_minor": 5
}
